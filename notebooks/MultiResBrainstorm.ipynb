{
 "cells": [
  {
   "cell_type": "code",
   "execution_count": 86,
   "id": "36a0ced0-9448-4f7c-873b-7ac4e6938816",
   "metadata": {},
   "outputs": [],
   "source": [
    "import numpy as np\n",
    "import matplotlib.pyplot as plt\n",
    "\n",
    "from numpy.random import default_rng\n",
    "import math\n",
    "\n",
    "test_proportion = 0.1\n",
    "num_samples_max = 1000\n",
    "batch_size = 16"
   ]
  },
  {
   "cell_type": "markdown",
   "id": "a967763a-bfcd-460c-bd90-5be105cf3d08",
   "metadata": {},
   "source": [
    "Requriments:\n",
    "\n",
    "- **Ratios** of different size inputs are passed via a tuple: e.g., (.9, .1, .07, .03), which means that we want 90% of data to be the lowest res, 10% to be second lowest res, and so on.  For any given dataset (Darcy, Burgers, Navier Stokes, Incompressible Navier Stokes), we support a fixed number of resolutions (documented in the class doc string)\n",
    "\n",
    "- We also **pre-batch** all of our data so that, we can ensure that datasamples from the same res are in each batch. Otherwise, we would need to enforce batch_size=1 which is prohibitively slow in some cases w/ long time step datasets. Or we would need to use padding, which may not make physical sense considering boundry contidtions.\n",
    "\n",
    "- We also need to return **multiple resolutions of test data** (this is done outside of the intial data class)"
   ]
  },
  {
   "cell_type": "code",
   "execution_count": 54,
   "id": "3edf89c4-e353-4887-8791-6e3d9044ddf7",
   "metadata": {},
   "outputs": [
    {
     "data": {
      "text/plain": [
       "720"
      ]
     },
     "execution_count": 54,
     "metadata": {},
     "output_type": "execute_result"
    }
   ],
   "source": [
    "rng = default_rng(seed=0)\n",
    "\n",
    "data_idx = np.arange(0,num_samples_max)\n",
    "test_idx = int(num_samples_max*test_proportion)\n",
    "test_idxs = data_idx[:test_idx]\n",
    "train_idxs = data_idx[test_idx:num_samples_max]\n",
    "\n",
    "resolution_proportions = [0.8, 0.1, 0.07, 0.03]\n",
    "#resolution_idxs = []\n",
    "num_train_samples = len(train_idxs)\n",
    "rng.shuffle(train_idxs)\n",
    "\n",
    "res_sets = []\n",
    "for ratio in resolution_proportions:\n",
    "    res_idx = int(num_train_samples * ratio)\n",
    "    #resolution_idxs.append(res_idx)\n",
    "    res_sets.append(train_idxs[:res_idx])\n",
    "    train_idxs = train_idxs[res_idx:]\n",
    "# can just pass in # of samples or maybe \n",
    "len(res_sets[0])"
   ]
  },
  {
   "cell_type": "code",
   "execution_count": 52,
   "id": "07f65cad-4d7b-4ba7-9dba-6695d627efa6",
   "metadata": {},
   "outputs": [
    {
     "data": {
      "text/plain": [
       "900"
      ]
     },
     "execution_count": 52,
     "metadata": {},
     "output_type": "execute_result"
    }
   ],
   "source": [
    "total_count = 0\n",
    "for i in range(4):\n",
    "    total_count += len(res_sets[i])\n",
    "\n",
    "total_count"
   ]
  },
  {
   "cell_type": "code",
   "execution_count": 67,
   "id": "918822f8-e00e-4ece-b07e-37f84063a850",
   "metadata": {},
   "outputs": [
    {
     "name": "stdout",
     "output_type": "stream",
     "text": [
      "num_batches_in_set=6\n",
      "num_batches_in_set=1\n",
      "num_batches_in_set=1\n",
      "num_batches_in_set=1\n"
     ]
    },
    {
     "data": {
      "text/plain": [
       "836"
      ]
     },
     "execution_count": 67,
     "metadata": {},
     "output_type": "execute_result"
    }
   ],
   "source": [
    "num_of_train_batches = math.ceil(num_train_samples / batch_size)\n",
    "num_of_train_batches\n",
    "\n",
    "batch_idx = 45\n",
    "\n",
    "for res_set in res_sets:\n",
    "    num_batches_in_set = math.ceil(len(res_set) / batch_size)\n",
    "    print(f\"{num_batches_in_set=}\")\n",
    "    if batch_idx >= num_batches_in_set:\n",
    "        batch_idx -= num_batches_in_set\n",
    "    else:\n",
    "        print(f\"in correct set, {len(res_set)=}\")\n",
    "        item_idx = int(batch_idx*batch_size)\n",
    "        sample = res_set[item_idx:item_idx+batch_size]\n",
    "        break\n",
    "\n",
    "sample"
   ]
  },
  {
   "cell_type": "code",
   "execution_count": 65,
   "id": "0c8cfb63-b71f-4df3-a285-ef17796456b9",
   "metadata": {},
   "outputs": [
    {
     "data": {
      "text/plain": [
       "(900,)"
      ]
     },
     "execution_count": 65,
     "metadata": {},
     "output_type": "execute_result"
    }
   ],
   "source": [
    "np.concatenate(res_sets).shape"
   ]
  },
  {
   "cell_type": "code",
   "execution_count": 5,
   "id": "942eabfb-34e6-4f6a-8574-bbf828c5f906",
   "metadata": {},
   "outputs": [],
   "source": [
    "from __future__ import annotations\n",
    "\n",
    "import typing\n",
    "from pathlib import Path\n",
    "\n",
    "import h5py\n",
    "import numpy as np\n",
    "from torch.utils.data import Dataset\n",
    "from torchvision.transforms import Compose\n",
    "import torch\n",
    "\n",
    "# https://github.com/pdebench/PDEBench/blob/main/pdebench/models/fno/utils.py"
   ]
  },
  {
   "cell_type": "code",
   "execution_count": 104,
   "id": "e273471b-318f-48e9-92a4-55b17baa1d48",
   "metadata": {},
   "outputs": [
    {
     "name": "stdout",
     "output_type": "stream",
     "text": [
      "self.num_samples=9000\n"
     ]
    },
    {
     "ename": "TypeError",
     "evalue": "Invalid shape (128,) for image data",
     "output_type": "error",
     "traceback": [
      "\u001b[0;31m---------------------------------------------------------------------------\u001b[0m",
      "\u001b[0;31mTypeError\u001b[0m                                 Traceback (most recent call last)",
      "Cell \u001b[0;32mIn[104], line 127\u001b[0m\n\u001b[1;32m    112\u001b[0m img_size \u001b[38;5;241m=\u001b[39m \u001b[38;5;241m1024\u001b[39m\n\u001b[1;32m    114\u001b[0m dataset \u001b[38;5;241m=\u001b[39m BurgersPDEBench(\n\u001b[1;32m    115\u001b[0m             filename\u001b[38;5;241m=\u001b[39m\u001b[38;5;124mf\u001b[39m\u001b[38;5;124m'\u001b[39m\u001b[38;5;124m1D_Burgers_Sols_Nu\u001b[39m\u001b[38;5;132;01m{\u001b[39;00mburger_viscosity\u001b[38;5;132;01m}\u001b[39;00m\u001b[38;5;124m.hdf5\u001b[39m\u001b[38;5;124m'\u001b[39m,\n\u001b[1;32m    116\u001b[0m             initial_step\u001b[38;5;241m=\u001b[39m\u001b[38;5;241m10\u001b[39m,\n\u001b[0;32m   (...)\u001b[0m\n\u001b[1;32m    124\u001b[0m             seed\u001b[38;5;241m=\u001b[39m\u001b[38;5;241m0\u001b[39m,\n\u001b[1;32m    125\u001b[0m         )\n\u001b[0;32m--> 127\u001b[0m \u001b[43mplt\u001b[49m\u001b[38;5;241;43m.\u001b[39;49m\u001b[43mimshow\u001b[49m\u001b[43m(\u001b[49m\u001b[43mdataset\u001b[49m\u001b[43m[\u001b[49m\u001b[38;5;241;43m0\u001b[39;49m\u001b[43m]\u001b[49m\u001b[43m[\u001b[49m\u001b[38;5;124;43m'\u001b[39;49m\u001b[38;5;124;43mx\u001b[39;49m\u001b[38;5;124;43m'\u001b[39;49m\u001b[43m]\u001b[49m\u001b[43m[\u001b[49m\u001b[38;5;241;43m0\u001b[39;49m\u001b[43m,\u001b[49m\u001b[38;5;241;43m0\u001b[39;49m\u001b[43m,\u001b[49m\u001b[38;5;241;43m.\u001b[39;49m\u001b[38;5;241;43m.\u001b[39;49m\u001b[38;5;241;43m.\u001b[39;49m\u001b[43m]\u001b[49m\u001b[43m)\u001b[49m\n\u001b[1;32m    128\u001b[0m plt\u001b[38;5;241m.\u001b[39mshow()\n",
      "File \u001b[0;32m/pscratch/sd/m/mansisak/operator_aliasing/env/lib/python3.10/site-packages/matplotlib/pyplot.py:3601\u001b[0m, in \u001b[0;36mimshow\u001b[0;34m(X, cmap, norm, aspect, interpolation, alpha, vmin, vmax, colorizer, origin, extent, interpolation_stage, filternorm, filterrad, resample, url, data, **kwargs)\u001b[0m\n\u001b[1;32m   3579\u001b[0m \u001b[38;5;129m@_copy_docstring_and_deprecators\u001b[39m(Axes\u001b[38;5;241m.\u001b[39mimshow)\n\u001b[1;32m   3580\u001b[0m \u001b[38;5;28;01mdef\u001b[39;00m\u001b[38;5;250m \u001b[39m\u001b[38;5;21mimshow\u001b[39m(\n\u001b[1;32m   3581\u001b[0m     X: ArrayLike \u001b[38;5;241m|\u001b[39m PIL\u001b[38;5;241m.\u001b[39mImage\u001b[38;5;241m.\u001b[39mImage,\n\u001b[0;32m   (...)\u001b[0m\n\u001b[1;32m   3599\u001b[0m     \u001b[38;5;241m*\u001b[39m\u001b[38;5;241m*\u001b[39mkwargs,\n\u001b[1;32m   3600\u001b[0m ) \u001b[38;5;241m-\u001b[39m\u001b[38;5;241m>\u001b[39m AxesImage:\n\u001b[0;32m-> 3601\u001b[0m     __ret \u001b[38;5;241m=\u001b[39m \u001b[43mgca\u001b[49m\u001b[43m(\u001b[49m\u001b[43m)\u001b[49m\u001b[38;5;241;43m.\u001b[39;49m\u001b[43mimshow\u001b[49m\u001b[43m(\u001b[49m\n\u001b[1;32m   3602\u001b[0m \u001b[43m        \u001b[49m\u001b[43mX\u001b[49m\u001b[43m,\u001b[49m\n\u001b[1;32m   3603\u001b[0m \u001b[43m        \u001b[49m\u001b[43mcmap\u001b[49m\u001b[38;5;241;43m=\u001b[39;49m\u001b[43mcmap\u001b[49m\u001b[43m,\u001b[49m\n\u001b[1;32m   3604\u001b[0m \u001b[43m        \u001b[49m\u001b[43mnorm\u001b[49m\u001b[38;5;241;43m=\u001b[39;49m\u001b[43mnorm\u001b[49m\u001b[43m,\u001b[49m\n\u001b[1;32m   3605\u001b[0m \u001b[43m        \u001b[49m\u001b[43maspect\u001b[49m\u001b[38;5;241;43m=\u001b[39;49m\u001b[43maspect\u001b[49m\u001b[43m,\u001b[49m\n\u001b[1;32m   3606\u001b[0m \u001b[43m        \u001b[49m\u001b[43minterpolation\u001b[49m\u001b[38;5;241;43m=\u001b[39;49m\u001b[43minterpolation\u001b[49m\u001b[43m,\u001b[49m\n\u001b[1;32m   3607\u001b[0m \u001b[43m        \u001b[49m\u001b[43malpha\u001b[49m\u001b[38;5;241;43m=\u001b[39;49m\u001b[43malpha\u001b[49m\u001b[43m,\u001b[49m\n\u001b[1;32m   3608\u001b[0m \u001b[43m        \u001b[49m\u001b[43mvmin\u001b[49m\u001b[38;5;241;43m=\u001b[39;49m\u001b[43mvmin\u001b[49m\u001b[43m,\u001b[49m\n\u001b[1;32m   3609\u001b[0m \u001b[43m        \u001b[49m\u001b[43mvmax\u001b[49m\u001b[38;5;241;43m=\u001b[39;49m\u001b[43mvmax\u001b[49m\u001b[43m,\u001b[49m\n\u001b[1;32m   3610\u001b[0m \u001b[43m        \u001b[49m\u001b[43mcolorizer\u001b[49m\u001b[38;5;241;43m=\u001b[39;49m\u001b[43mcolorizer\u001b[49m\u001b[43m,\u001b[49m\n\u001b[1;32m   3611\u001b[0m \u001b[43m        \u001b[49m\u001b[43morigin\u001b[49m\u001b[38;5;241;43m=\u001b[39;49m\u001b[43morigin\u001b[49m\u001b[43m,\u001b[49m\n\u001b[1;32m   3612\u001b[0m \u001b[43m        \u001b[49m\u001b[43mextent\u001b[49m\u001b[38;5;241;43m=\u001b[39;49m\u001b[43mextent\u001b[49m\u001b[43m,\u001b[49m\n\u001b[1;32m   3613\u001b[0m \u001b[43m        \u001b[49m\u001b[43minterpolation_stage\u001b[49m\u001b[38;5;241;43m=\u001b[39;49m\u001b[43minterpolation_stage\u001b[49m\u001b[43m,\u001b[49m\n\u001b[1;32m   3614\u001b[0m \u001b[43m        \u001b[49m\u001b[43mfilternorm\u001b[49m\u001b[38;5;241;43m=\u001b[39;49m\u001b[43mfilternorm\u001b[49m\u001b[43m,\u001b[49m\n\u001b[1;32m   3615\u001b[0m \u001b[43m        \u001b[49m\u001b[43mfilterrad\u001b[49m\u001b[38;5;241;43m=\u001b[39;49m\u001b[43mfilterrad\u001b[49m\u001b[43m,\u001b[49m\n\u001b[1;32m   3616\u001b[0m \u001b[43m        \u001b[49m\u001b[43mresample\u001b[49m\u001b[38;5;241;43m=\u001b[39;49m\u001b[43mresample\u001b[49m\u001b[43m,\u001b[49m\n\u001b[1;32m   3617\u001b[0m \u001b[43m        \u001b[49m\u001b[43murl\u001b[49m\u001b[38;5;241;43m=\u001b[39;49m\u001b[43murl\u001b[49m\u001b[43m,\u001b[49m\n\u001b[1;32m   3618\u001b[0m \u001b[43m        \u001b[49m\u001b[38;5;241;43m*\u001b[39;49m\u001b[38;5;241;43m*\u001b[39;49m\u001b[43m(\u001b[49m\u001b[43m{\u001b[49m\u001b[38;5;124;43m\"\u001b[39;49m\u001b[38;5;124;43mdata\u001b[39;49m\u001b[38;5;124;43m\"\u001b[39;49m\u001b[43m:\u001b[49m\u001b[43m \u001b[49m\u001b[43mdata\u001b[49m\u001b[43m}\u001b[49m\u001b[43m \u001b[49m\u001b[38;5;28;43;01mif\u001b[39;49;00m\u001b[43m \u001b[49m\u001b[43mdata\u001b[49m\u001b[43m \u001b[49m\u001b[38;5;129;43;01mis\u001b[39;49;00m\u001b[43m \u001b[49m\u001b[38;5;129;43;01mnot\u001b[39;49;00m\u001b[43m \u001b[49m\u001b[38;5;28;43;01mNone\u001b[39;49;00m\u001b[43m \u001b[49m\u001b[38;5;28;43;01melse\u001b[39;49;00m\u001b[43m \u001b[49m\u001b[43m{\u001b[49m\u001b[43m}\u001b[49m\u001b[43m)\u001b[49m\u001b[43m,\u001b[49m\n\u001b[1;32m   3619\u001b[0m \u001b[43m        \u001b[49m\u001b[38;5;241;43m*\u001b[39;49m\u001b[38;5;241;43m*\u001b[39;49m\u001b[43mkwargs\u001b[49m\u001b[43m,\u001b[49m\n\u001b[1;32m   3620\u001b[0m \u001b[43m    \u001b[49m\u001b[43m)\u001b[49m\n\u001b[1;32m   3621\u001b[0m     sci(__ret)\n\u001b[1;32m   3622\u001b[0m     \u001b[38;5;28;01mreturn\u001b[39;00m __ret\n",
      "File \u001b[0;32m/pscratch/sd/m/mansisak/operator_aliasing/env/lib/python3.10/site-packages/matplotlib/__init__.py:1521\u001b[0m, in \u001b[0;36m_preprocess_data.<locals>.inner\u001b[0;34m(ax, data, *args, **kwargs)\u001b[0m\n\u001b[1;32m   1518\u001b[0m \u001b[38;5;129m@functools\u001b[39m\u001b[38;5;241m.\u001b[39mwraps(func)\n\u001b[1;32m   1519\u001b[0m \u001b[38;5;28;01mdef\u001b[39;00m\u001b[38;5;250m \u001b[39m\u001b[38;5;21minner\u001b[39m(ax, \u001b[38;5;241m*\u001b[39margs, data\u001b[38;5;241m=\u001b[39m\u001b[38;5;28;01mNone\u001b[39;00m, \u001b[38;5;241m*\u001b[39m\u001b[38;5;241m*\u001b[39mkwargs):\n\u001b[1;32m   1520\u001b[0m     \u001b[38;5;28;01mif\u001b[39;00m data \u001b[38;5;129;01mis\u001b[39;00m \u001b[38;5;28;01mNone\u001b[39;00m:\n\u001b[0;32m-> 1521\u001b[0m         \u001b[38;5;28;01mreturn\u001b[39;00m \u001b[43mfunc\u001b[49m\u001b[43m(\u001b[49m\n\u001b[1;32m   1522\u001b[0m \u001b[43m            \u001b[49m\u001b[43max\u001b[49m\u001b[43m,\u001b[49m\n\u001b[1;32m   1523\u001b[0m \u001b[43m            \u001b[49m\u001b[38;5;241;43m*\u001b[39;49m\u001b[38;5;28;43mmap\u001b[39;49m\u001b[43m(\u001b[49m\u001b[43mcbook\u001b[49m\u001b[38;5;241;43m.\u001b[39;49m\u001b[43msanitize_sequence\u001b[49m\u001b[43m,\u001b[49m\u001b[43m \u001b[49m\u001b[43margs\u001b[49m\u001b[43m)\u001b[49m\u001b[43m,\u001b[49m\n\u001b[1;32m   1524\u001b[0m \u001b[43m            \u001b[49m\u001b[38;5;241;43m*\u001b[39;49m\u001b[38;5;241;43m*\u001b[39;49m\u001b[43m{\u001b[49m\u001b[43mk\u001b[49m\u001b[43m:\u001b[49m\u001b[43m \u001b[49m\u001b[43mcbook\u001b[49m\u001b[38;5;241;43m.\u001b[39;49m\u001b[43msanitize_sequence\u001b[49m\u001b[43m(\u001b[49m\u001b[43mv\u001b[49m\u001b[43m)\u001b[49m\u001b[43m \u001b[49m\u001b[38;5;28;43;01mfor\u001b[39;49;00m\u001b[43m \u001b[49m\u001b[43mk\u001b[49m\u001b[43m,\u001b[49m\u001b[43m \u001b[49m\u001b[43mv\u001b[49m\u001b[43m \u001b[49m\u001b[38;5;129;43;01min\u001b[39;49;00m\u001b[43m \u001b[49m\u001b[43mkwargs\u001b[49m\u001b[38;5;241;43m.\u001b[39;49m\u001b[43mitems\u001b[49m\u001b[43m(\u001b[49m\u001b[43m)\u001b[49m\u001b[43m}\u001b[49m\u001b[43m)\u001b[49m\n\u001b[1;32m   1526\u001b[0m     bound \u001b[38;5;241m=\u001b[39m new_sig\u001b[38;5;241m.\u001b[39mbind(ax, \u001b[38;5;241m*\u001b[39margs, \u001b[38;5;241m*\u001b[39m\u001b[38;5;241m*\u001b[39mkwargs)\n\u001b[1;32m   1527\u001b[0m     auto_label \u001b[38;5;241m=\u001b[39m (bound\u001b[38;5;241m.\u001b[39marguments\u001b[38;5;241m.\u001b[39mget(label_namer)\n\u001b[1;32m   1528\u001b[0m                   \u001b[38;5;129;01mor\u001b[39;00m bound\u001b[38;5;241m.\u001b[39mkwargs\u001b[38;5;241m.\u001b[39mget(label_namer))\n",
      "File \u001b[0;32m/pscratch/sd/m/mansisak/operator_aliasing/env/lib/python3.10/site-packages/matplotlib/axes/_axes.py:5979\u001b[0m, in \u001b[0;36mAxes.imshow\u001b[0;34m(self, X, cmap, norm, aspect, interpolation, alpha, vmin, vmax, colorizer, origin, extent, interpolation_stage, filternorm, filterrad, resample, url, **kwargs)\u001b[0m\n\u001b[1;32m   5976\u001b[0m \u001b[38;5;28;01mif\u001b[39;00m aspect \u001b[38;5;129;01mis\u001b[39;00m \u001b[38;5;129;01mnot\u001b[39;00m \u001b[38;5;28;01mNone\u001b[39;00m:\n\u001b[1;32m   5977\u001b[0m     \u001b[38;5;28mself\u001b[39m\u001b[38;5;241m.\u001b[39mset_aspect(aspect)\n\u001b[0;32m-> 5979\u001b[0m \u001b[43mim\u001b[49m\u001b[38;5;241;43m.\u001b[39;49m\u001b[43mset_data\u001b[49m\u001b[43m(\u001b[49m\u001b[43mX\u001b[49m\u001b[43m)\u001b[49m\n\u001b[1;32m   5980\u001b[0m im\u001b[38;5;241m.\u001b[39mset_alpha(alpha)\n\u001b[1;32m   5981\u001b[0m \u001b[38;5;28;01mif\u001b[39;00m im\u001b[38;5;241m.\u001b[39mget_clip_path() \u001b[38;5;129;01mis\u001b[39;00m \u001b[38;5;28;01mNone\u001b[39;00m:\n\u001b[1;32m   5982\u001b[0m     \u001b[38;5;66;03m# image does not already have clipping set, clip to Axes patch\u001b[39;00m\n",
      "File \u001b[0;32m/pscratch/sd/m/mansisak/operator_aliasing/env/lib/python3.10/site-packages/matplotlib/image.py:685\u001b[0m, in \u001b[0;36m_ImageBase.set_data\u001b[0;34m(self, A)\u001b[0m\n\u001b[1;32m    683\u001b[0m \u001b[38;5;28;01mif\u001b[39;00m \u001b[38;5;28misinstance\u001b[39m(A, PIL\u001b[38;5;241m.\u001b[39mImage\u001b[38;5;241m.\u001b[39mImage):\n\u001b[1;32m    684\u001b[0m     A \u001b[38;5;241m=\u001b[39m pil_to_array(A)  \u001b[38;5;66;03m# Needed e.g. to apply png palette.\u001b[39;00m\n\u001b[0;32m--> 685\u001b[0m \u001b[38;5;28mself\u001b[39m\u001b[38;5;241m.\u001b[39m_A \u001b[38;5;241m=\u001b[39m \u001b[38;5;28;43mself\u001b[39;49m\u001b[38;5;241;43m.\u001b[39;49m\u001b[43m_normalize_image_array\u001b[49m\u001b[43m(\u001b[49m\u001b[43mA\u001b[49m\u001b[43m)\u001b[49m\n\u001b[1;32m    686\u001b[0m \u001b[38;5;28mself\u001b[39m\u001b[38;5;241m.\u001b[39m_imcache \u001b[38;5;241m=\u001b[39m \u001b[38;5;28;01mNone\u001b[39;00m\n\u001b[1;32m    687\u001b[0m \u001b[38;5;28mself\u001b[39m\u001b[38;5;241m.\u001b[39mstale \u001b[38;5;241m=\u001b[39m \u001b[38;5;28;01mTrue\u001b[39;00m\n",
      "File \u001b[0;32m/pscratch/sd/m/mansisak/operator_aliasing/env/lib/python3.10/site-packages/matplotlib/image.py:653\u001b[0m, in \u001b[0;36m_ImageBase._normalize_image_array\u001b[0;34m(A)\u001b[0m\n\u001b[1;32m    651\u001b[0m     A \u001b[38;5;241m=\u001b[39m A\u001b[38;5;241m.\u001b[39msqueeze(\u001b[38;5;241m-\u001b[39m\u001b[38;5;241m1\u001b[39m)  \u001b[38;5;66;03m# If just (M, N, 1), assume scalar and apply colormap.\u001b[39;00m\n\u001b[1;32m    652\u001b[0m \u001b[38;5;28;01mif\u001b[39;00m \u001b[38;5;129;01mnot\u001b[39;00m (A\u001b[38;5;241m.\u001b[39mndim \u001b[38;5;241m==\u001b[39m \u001b[38;5;241m2\u001b[39m \u001b[38;5;129;01mor\u001b[39;00m A\u001b[38;5;241m.\u001b[39mndim \u001b[38;5;241m==\u001b[39m \u001b[38;5;241m3\u001b[39m \u001b[38;5;129;01mand\u001b[39;00m A\u001b[38;5;241m.\u001b[39mshape[\u001b[38;5;241m-\u001b[39m\u001b[38;5;241m1\u001b[39m] \u001b[38;5;129;01min\u001b[39;00m [\u001b[38;5;241m3\u001b[39m, \u001b[38;5;241m4\u001b[39m]):\n\u001b[0;32m--> 653\u001b[0m     \u001b[38;5;28;01mraise\u001b[39;00m \u001b[38;5;167;01mTypeError\u001b[39;00m(\u001b[38;5;124mf\u001b[39m\u001b[38;5;124m\"\u001b[39m\u001b[38;5;124mInvalid shape \u001b[39m\u001b[38;5;132;01m{\u001b[39;00mA\u001b[38;5;241m.\u001b[39mshape\u001b[38;5;132;01m}\u001b[39;00m\u001b[38;5;124m for image data\u001b[39m\u001b[38;5;124m\"\u001b[39m)\n\u001b[1;32m    654\u001b[0m \u001b[38;5;28;01mif\u001b[39;00m A\u001b[38;5;241m.\u001b[39mndim \u001b[38;5;241m==\u001b[39m \u001b[38;5;241m3\u001b[39m:\n\u001b[1;32m    655\u001b[0m     \u001b[38;5;66;03m# If the input data has values outside the valid range (after\u001b[39;00m\n\u001b[1;32m    656\u001b[0m     \u001b[38;5;66;03m# normalisation), we issue a warning and then clip X to the bounds\u001b[39;00m\n\u001b[1;32m    657\u001b[0m     \u001b[38;5;66;03m# - otherwise casting wraps extreme values, hiding outliers and\u001b[39;00m\n\u001b[1;32m    658\u001b[0m     \u001b[38;5;66;03m# making reliable interpretation impossible.\u001b[39;00m\n\u001b[1;32m    659\u001b[0m     high \u001b[38;5;241m=\u001b[39m \u001b[38;5;241m255\u001b[39m \u001b[38;5;28;01mif\u001b[39;00m np\u001b[38;5;241m.\u001b[39missubdtype(A\u001b[38;5;241m.\u001b[39mdtype, np\u001b[38;5;241m.\u001b[39minteger) \u001b[38;5;28;01melse\u001b[39;00m \u001b[38;5;241m1\u001b[39m\n",
      "\u001b[0;31mTypeError\u001b[0m: Invalid shape (128,) for image data"
     ]
    },
    {
     "data": {
      "image/png": "[encoded data removed]",
      "text/plain": [
       "<Figure size 640x480 with 1 Axes>"
      ]
     },
     "metadata": {},
     "output_type": "display_data"
    }
   ],
   "source": [
    "class BurgersPDEBench(Dataset):\n",
    "    \"\"\"Burger Dataset from PDE Bench.\"\"\"\n",
    "\n",
    "    def __init__(\n",
    "        self,\n",
    "        filename: str,\n",
    "        initial_step: int = 10,\n",
    "        saved_folder: str = '../data/',\n",
    "        train: bool = False,\n",
    "        transform: Compose = None,\n",
    "        **kwargs: typing.Any,\n",
    "    ):\n",
    "        \"\"\"Initialize data.\n",
    "        \n",
    "        support img dimentions: 1024, 512, 256, 128 (highest to lowest)\n",
    "        \"\"\"\n",
    "        self.transform = transform\n",
    "        # Time steps used as initial conditions\n",
    "        self.initial_step = initial_step\n",
    "        \n",
    "        resolution_proportions = kwargs['resolution_proportions']\n",
    "        four = 4\n",
    "        assert len(resolution_proportions) == four, (\n",
    "            'Only support 4 img_resolutions, see doc string.'\n",
    "        )\n",
    "        assert sum(resolution_proportions) == 1, (\n",
    "            'All dataset proportions must sum to 1.'\n",
    "        )\n",
    "        self.rng = default_rng(seed=kwargs['seed'])\n",
    "        self.batch_size = kwargs['batch_size']\n",
    "        test_ratio = 0.1\n",
    "        num_samples_max = -1\n",
    "        reduced_resolution_t = 2\n",
    "\n",
    "        self.data_sets = []\n",
    "        root_path = Path(Path(saved_folder).resolve()) / filename\n",
    "        with h5py.File(root_path, 'r') as f:\n",
    "            # num of data samples\n",
    "            num_samples_max = f['tensor'].shape[0]\n",
    "\n",
    "            # list of data idxs\n",
    "            data_idx = np.arange(0, num_samples_max)\n",
    "            # num of test samples\n",
    "            test_idx = int(num_samples_max * test_ratio)\n",
    "            if train:\n",
    "                first_batch_idx = test_idx\n",
    "                last_batch_idx = -1\n",
    "                self.num_samples = num_samples_max - test_idx\n",
    "            else:\n",
    "                first_batch_idx = 0\n",
    "                last_batch_idx = test_idx\n",
    "                self.num_samples = test_idx\n",
    "            print(f'{self.num_samples=}')\n",
    "            # grab data indexs\n",
    "            self.data_idxs = data_idx[first_batch_idx:last_batch_idx]\n",
    "            # shuffle indexes\n",
    "            self.rng.shuffle(self.data_idxs)\n",
    "                    \n",
    "        # Define path to files\n",
    "        root_path = Path(Path(saved_folder).resolve()) / filename\n",
    "        for res_factor, ratio in enumerate(resolution_proportions):\n",
    "            reduced_resolution = 2**res_factor\n",
    "            with h5py.File(root_path, 'r') as f:\n",
    "                # number of points in this resolution set\n",
    "                res_idx = int(self.num_samples * ratio)\n",
    "                # sort all indexes\n",
    "                set_indexes = np.sort(self.data_idxs[:res_idx])\n",
    "                \n",
    "                ## data dim = [t, x1, ..., xd, v]\n",
    "                _data = np.array(\n",
    "                    f['tensor'], dtype=np.float32\n",
    "                )  # batch, time, x,...\n",
    "                _data = _data[\n",
    "                    set_indexes,\n",
    "                    ::reduced_resolution_t,\n",
    "                    ::reduced_resolution,\n",
    "                ]\n",
    "                # batch, time, channel, x,\n",
    "                self.data = torch.tensor(_data[:, :, None, :])\n",
    "\n",
    "    def __len__(self) -> int:\n",
    "        \"\"\"Returns len of dataset.\n",
    "\n",
    "        Recall this is a pre-batched dataset, so we return\n",
    "        number of batches.\n",
    "        \"\"\"\n",
    "        return math.ceil(self.num_samples / self.batch_size)\n",
    "\n",
    "    def __getitem__(self, idx: int) -> dict[str, torch.Tensor]:\n",
    "        \"\"\"Get single sample at idx.\"\"\"\n",
    "        sample = {\n",
    "            'x': self.data[idx, : self.initial_step, ...],\n",
    "            'y': self.data[idx, ...],\n",
    "            # self.grid,\n",
    "        }\n",
    "\n",
    "        if self.transform:\n",
    "            sample = self.transform(sample)\n",
    "\n",
    "        return sample\n",
    "\n",
    "batch_size = 137\n",
    "dataset_name = 'burger_pdebench'\n",
    "initial_steps = 10\n",
    "filter_lim = -1\n",
    "downsample_dim = -1\n",
    "model_name = 'FNO1D'\n",
    "darcy_forcing_term = 1.0\n",
    "burger_viscosity = 1.0\n",
    "train = True\n",
    "data_transforms = None\n",
    "img_size = 1024\n",
    "\n",
    "dataset = BurgersPDEBench(\n",
    "            filename=f'1D_Burgers_Sols_Nu{burger_viscosity}.hdf5',\n",
    "            initial_step=10,\n",
    "            saved_folder='/pscratch/sd/m/mansisak/PDEBench/pdebench_data/1D/Burgers/Train/',\n",
    "            # reduced_resolution=1,\n",
    "            train=train,\n",
    "            transform=data_transforms,\n",
    "            img_size=img_size,\n",
    "            batch_size=batch_size,\n",
    "            resolution_proportions = [0.03, 0.07,0.1,0.8],\n",
    "            seed=0,\n",
    "        )\n",
    "\n",
    "plt.imshow(dataset[0]['x'][0,0,...])\n",
    "plt.show()"
   ]
  },
  {
   "cell_type": "code",
   "execution_count": 97,
   "id": "c677ba88-c478-44b4-997b-abb2ee553112",
   "metadata": {},
   "outputs": [
    {
     "name": "stdout",
     "output_type": "stream",
     "text": [
      "133\n",
      "82\n",
      "78\n",
      "75\n"
     ]
    },
    {
     "data": {
      "text/plain": [
       "8999"
      ]
     },
     "execution_count": 97,
     "metadata": {},
     "output_type": "execute_result"
    }
   ],
   "source": [
    "total_sample = 0\n",
    "\n",
    "for i in range(len(dataset)+1):\n",
    "    sample_count = len(dataset[i]['x'])\n",
    "    if sample_count != batch_size:\n",
    "        print(sample_count)\n",
    "    total_sample += sample_count\n",
    "\n",
    "total_sample"
   ]
  },
  {
   "cell_type": "code",
   "execution_count": 80,
   "id": "9668db1e-09e8-4ba0-a414-49f157ef07da",
   "metadata": {},
   "outputs": [
    {
     "data": {
      "text/plain": [
       "90"
      ]
     },
     "execution_count": 80,
     "metadata": {},
     "output_type": "execute_result"
    }
   ],
   "source": [
    "len(dataset)"
   ]
  },
  {
   "cell_type": "code",
   "execution_count": 87,
   "id": "9bbcd230-5c5d-4726-9559-220f9d1307d7",
   "metadata": {},
   "outputs": [
    {
     "data": {
      "text/plain": [
       "{'x': tensor([[[[1.0000, 1.0000, 1.0000,  ..., 0.1000, 0.1000, 0.1000],\n",
       "           [1.0000, 1.0000, 1.0000,  ..., 0.1000, 0.1000, 0.1000],\n",
       "           [1.0000, 1.0000, 1.0000,  ..., 0.1000, 0.1000, 0.1000],\n",
       "           ...,\n",
       "           [0.1000, 0.1000, 0.1000,  ..., 0.1000, 0.1000, 0.1000],\n",
       "           [0.1000, 0.1000, 0.1000,  ..., 0.1000, 0.1000, 0.1000],\n",
       "           [0.1000, 0.1000, 0.1000,  ..., 0.1000, 0.1000, 0.1000]]],\n",
       " \n",
       " \n",
       "         [[[0.1000, 0.1000, 0.1000,  ..., 0.1000, 0.1000, 0.1000],\n",
       "           [0.1000, 0.1000, 1.0000,  ..., 0.1000, 0.1000, 0.1000],\n",
       "           [0.1000, 0.1000, 1.0000,  ..., 1.0000, 0.1000, 0.1000],\n",
       "           ...,\n",
       "           [0.1000, 0.1000, 0.1000,  ..., 1.0000, 1.0000, 0.1000],\n",
       "           [0.1000, 0.1000, 0.1000,  ..., 1.0000, 0.1000, 0.1000],\n",
       "           [0.1000, 0.1000, 0.1000,  ..., 0.1000, 0.1000, 0.1000]]],\n",
       " \n",
       " \n",
       "         [[[0.1000, 0.1000, 0.1000,  ..., 0.1000, 0.1000, 0.1000],\n",
       "           [0.1000, 0.1000, 0.1000,  ..., 0.1000, 0.1000, 0.1000],\n",
       "           [0.1000, 0.1000, 0.1000,  ..., 0.1000, 0.1000, 0.1000],\n",
       "           ...,\n",
       "           [0.1000, 0.1000, 0.1000,  ..., 1.0000, 1.0000, 1.0000],\n",
       "           [0.1000, 0.1000, 0.1000,  ..., 1.0000, 1.0000, 1.0000],\n",
       "           [0.1000, 0.1000, 0.1000,  ..., 1.0000, 1.0000, 1.0000]]],\n",
       " \n",
       " \n",
       "         ...,\n",
       " \n",
       " \n",
       "         [[[0.1000, 0.1000, 0.1000,  ..., 1.0000, 1.0000, 0.1000],\n",
       "           [0.1000, 0.1000, 0.1000,  ..., 1.0000, 1.0000, 0.1000],\n",
       "           [0.1000, 0.1000, 0.1000,  ..., 1.0000, 1.0000, 0.1000],\n",
       "           ...,\n",
       "           [1.0000, 1.0000, 1.0000,  ..., 0.1000, 0.1000, 0.1000],\n",
       "           [0.1000, 1.0000, 1.0000,  ..., 0.1000, 0.1000, 0.1000],\n",
       "           [0.1000, 0.1000, 1.0000,  ..., 0.1000, 0.1000, 0.1000]]],\n",
       " \n",
       " \n",
       "         [[[0.1000, 0.1000, 0.1000,  ..., 0.1000, 0.1000, 0.1000],\n",
       "           [0.1000, 0.1000, 0.1000,  ..., 0.1000, 0.1000, 0.1000],\n",
       "           [1.0000, 1.0000, 1.0000,  ..., 0.1000, 0.1000, 0.1000],\n",
       "           ...,\n",
       "           [0.1000, 0.1000, 0.1000,  ..., 0.1000, 0.1000, 0.1000],\n",
       "           [0.1000, 0.1000, 0.1000,  ..., 0.1000, 0.1000, 0.1000],\n",
       "           [0.1000, 0.1000, 0.1000,  ..., 0.1000, 0.1000, 0.1000]]],\n",
       " \n",
       " \n",
       "         [[[0.1000, 0.1000, 0.1000,  ..., 1.0000, 1.0000, 0.1000],\n",
       "           [0.1000, 0.1000, 0.1000,  ..., 1.0000, 1.0000, 0.1000],\n",
       "           [0.1000, 0.1000, 0.1000,  ..., 1.0000, 1.0000, 0.1000],\n",
       "           ...,\n",
       "           [0.1000, 0.1000, 0.1000,  ..., 0.1000, 0.1000, 0.1000],\n",
       "           [0.1000, 0.1000, 0.1000,  ..., 0.1000, 0.1000, 0.1000],\n",
       "           [0.1000, 0.1000, 0.1000,  ..., 0.1000, 0.1000, 0.1000]]]]),\n",
       " 'y': tensor([[[[2.2575e-04, 1.4655e-03, 2.3695e-03,  ..., 1.2876e-02,\n",
       "            1.0998e-02, 7.5132e-03],\n",
       "           [1.4686e-03, 1.1482e-02, 1.9402e-02,  ..., 9.5541e-02,\n",
       "            7.9840e-02, 5.0973e-02],\n",
       "           [2.3905e-03, 1.9537e-02, 3.3773e-02,  ..., 1.4704e-01,\n",
       "            1.2227e-01, 7.5768e-02],\n",
       "           ...,\n",
       "           [1.3338e-02, 1.0007e-01, 1.5710e-01,  ..., 2.2577e-01,\n",
       "            1.7725e-01, 1.0422e-01],\n",
       "           [1.1367e-02, 8.3289e-02, 1.2926e-01,  ..., 1.7774e-01,\n",
       "            1.4084e-01, 8.4318e-02],\n",
       "           [7.7094e-03, 5.2775e-02, 7.9290e-02,  ..., 1.0462e-01,\n",
       "            8.4417e-02, 5.2454e-02]]],\n",
       " \n",
       " \n",
       "         [[[1.3176e-03, 6.1553e-03, 7.9762e-03,  ..., 9.0305e-03,\n",
       "            8.0997e-03, 6.0110e-03],\n",
       "           [6.2886e-03, 3.8563e-02, 4.5521e-02,  ..., 5.8911e-02,\n",
       "            5.3007e-02, 3.7326e-02],\n",
       "           [8.3937e-03, 5.4732e-02, 6.3142e-02,  ..., 6.9445e-02,\n",
       "            6.8783e-02, 4.9964e-02],\n",
       "           ...,\n",
       "           [1.0435e-02, 7.2982e-02, 1.0081e-01,  ..., 7.1121e-02,\n",
       "            7.0187e-02, 5.5029e-02],\n",
       "           [9.1348e-03, 6.2512e-02, 8.6574e-02,  ..., 6.4908e-02,\n",
       "            6.7057e-02, 4.8924e-02],\n",
       "           [6.5067e-03, 4.1635e-02, 5.6807e-02,  ..., 5.0672e-02,\n",
       "            4.7743e-02, 3.4348e-02]]],\n",
       " \n",
       " \n",
       "         [[[1.5711e-03, 8.4934e-03, 1.2118e-02,  ..., 1.2001e-02,\n",
       "            1.0226e-02, 7.0616e-03],\n",
       "           [8.4899e-03, 5.9229e-02, 8.9716e-02,  ..., 8.7281e-02,\n",
       "            7.2455e-02, 4.6653e-02],\n",
       "           [1.2095e-02, 8.9562e-02, 1.3988e-01,  ..., 1.2901e-01,\n",
       "            1.0592e-01, 6.6292e-02],\n",
       "           ...,\n",
       "           [1.0063e-02, 6.9238e-02, 9.1812e-02,  ..., 4.4711e-02,\n",
       "            3.2593e-02, 1.7891e-02],\n",
       "           [8.5880e-03, 5.6919e-02, 7.2121e-02,  ..., 3.2408e-02,\n",
       "            2.3914e-02, 1.3369e-02],\n",
       "           [6.1096e-03, 3.7545e-02, 4.6113e-02,  ..., 1.7741e-02,\n",
       "            1.3332e-02, 7.7017e-03]]],\n",
       " \n",
       " \n",
       "         ...,\n",
       " \n",
       " \n",
       "         [[[1.3949e-03, 6.8928e-03, 9.0302e-03,  ..., 3.9622e-03,\n",
       "            5.4571e-03, 5.6374e-03],\n",
       "           [6.9212e-03, 4.4956e-02, 6.2074e-02,  ..., 3.2360e-02,\n",
       "            3.5559e-02, 3.5171e-02],\n",
       "           [9.2202e-03, 6.3342e-02, 8.8696e-02,  ..., 5.4679e-02,\n",
       "            5.4742e-02, 5.4835e-02],\n",
       "           ...,\n",
       "           [3.0823e-03, 2.2881e-02, 3.6267e-02,  ..., 1.2959e-01,\n",
       "            1.1633e-01, 7.4744e-02],\n",
       "           [6.3280e-03, 2.2880e-02, 2.9878e-02,  ..., 1.1220e-01,\n",
       "            9.8678e-02, 6.3760e-02],\n",
       "           [4.4999e-03, 2.2338e-02, 2.0996e-02,  ..., 7.1716e-02,\n",
       "            6.2986e-02, 4.1943e-02]]],\n",
       " \n",
       " \n",
       "         [[[1.4361e-03, 7.4030e-03, 1.0582e-02,  ..., 1.6456e-02,\n",
       "            1.3485e-02, 8.7762e-03],\n",
       "           [7.1557e-03, 4.8206e-02, 7.4495e-02,  ..., 1.2826e-01,\n",
       "            1.0236e-01, 6.2367e-02],\n",
       "           [7.0254e-03, 5.0948e-02, 8.2671e-02,  ..., 2.1080e-01,\n",
       "            1.6529e-01, 9.7329e-02],\n",
       "           ...,\n",
       "           [1.5807e-02, 1.2272e-01, 2.0178e-01,  ..., 2.9088e-01,\n",
       "            2.2142e-01, 1.2653e-01],\n",
       "           [1.3196e-02, 1.0010e-01, 1.6282e-01,  ..., 2.2103e-01,\n",
       "            1.7030e-01, 9.9219e-02],\n",
       "           [8.6865e-03, 6.1784e-02, 9.7476e-02,  ..., 1.2622e-01,\n",
       "            9.9141e-02, 5.9909e-02]]],\n",
       " \n",
       " \n",
       "         [[[1.5977e-03, 8.7193e-03, 1.2476e-02,  ..., 5.6520e-03,\n",
       "            6.0121e-03, 5.8026e-03],\n",
       "           [8.7427e-03, 6.1379e-02, 9.3163e-02,  ..., 4.8179e-02,\n",
       "            4.5501e-02, 3.7248e-02],\n",
       "           [1.2635e-02, 9.4196e-02, 1.4750e-01,  ..., 8.6043e-02,\n",
       "            7.8001e-02, 5.6983e-02],\n",
       "           ...,\n",
       "           [1.5919e-02, 1.2317e-01, 1.9998e-01,  ..., 2.3654e-01,\n",
       "            1.8425e-01, 1.0768e-01],\n",
       "           [1.3039e-02, 9.8195e-02, 1.5668e-01,  ..., 1.8546e-01,\n",
       "            1.4579e-01, 8.6743e-02],\n",
       "           [8.5274e-03, 6.0056e-02, 9.2621e-02,  ..., 1.0865e-01,\n",
       "            8.6985e-02, 5.3707e-02]]]])}"
      ]
     },
     "execution_count": 87,
     "metadata": {},
     "output_type": "execute_result"
    }
   ],
   "source": [
    "dataset[90]"
   ]
  },
  {
   "cell_type": "code",
   "execution_count": null,
   "id": "56d65132-771b-44ee-ba4f-e37c64cd0c09",
   "metadata": {},
   "outputs": [],
   "source": []
  }
 ],
 "metadata": {
  "kernelspec": {
   "display_name": "operator_alias",
   "language": "python",
   "name": "env"
  },
  "language_info": {
   "codemirror_mode": {
    "name": "ipython",
    "version": 3
   },
   "file_extension": ".py",
   "mimetype": "text/x-python",
   "name": "python",
   "nbconvert_exporter": "python",
   "pygments_lexer": "ipython3",
   "version": "3.10.0"
  }
 },
 "nbformat": 4,
 "nbformat_minor": 5
}
