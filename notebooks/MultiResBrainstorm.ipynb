{
 "cells": [
  {
   "cell_type": "code",
   "execution_count": 1,
   "id": "36a0ced0-9448-4f7c-873b-7ac4e6938816",
   "metadata": {},
   "outputs": [],
   "source": [
    "import numpy as np\n",
    "import matplotlib.pyplot as plt\n",
    "\n",
    "from numpy.random import default_rng\n",
    "import math\n",
    "\n",
    "test_proportion = 0.1\n",
    "num_samples_max = 1000\n",
    "batch_size = 16\n",
    "\n",
    "from operator_aliasing.data.transforms import DownSample\n",
    "from operator_aliasing.data.utils import get_dataset\n",
    "from operator_aliasing.data.transforms import LowpassFilter\n",
    "from operator_aliasing.utils import get_energy_curve\n",
    "from operator_aliasing.utils import get_energy_curve_1d\n",
    "from operator_aliasing.train.pinn_losses import incomp_ns_fdm"
   ]
  },
  {
   "cell_type": "markdown",
   "id": "a967763a-bfcd-460c-bd90-5be105cf3d08",
   "metadata": {},
   "source": [
    "Requriments:\n",
    "\n",
    "- **Ratios** of different size inputs are passed via a tuple: e.g., (.9, .1, .07, .03), which means that we want 90% of data to be the lowest res, 10% to be second lowest res, and so on.  For any given dataset (Darcy, Burgers, Navier Stokes, Incompressible Navier Stokes), we support a fixed number of resolutions (documented in the class doc string)\n",
    "\n",
    "- We also **pre-batch** all of our data so that, we can ensure that datasamples from the same res are in each batch. Otherwise, we would need to enforce batch_size=1 which is prohibitively slow in some cases w/ long time step datasets. Or we would need to use padding, which may not make physical sense considering boundry contidtions.\n",
    "\n",
    "- We also need to return **multiple resolutions of test data** (this is done outside of the intial data class)"
   ]
  },
  {
   "cell_type": "code",
   "execution_count": 54,
   "id": "3edf89c4-e353-4887-8791-6e3d9044ddf7",
   "metadata": {},
   "outputs": [
    {
     "data": {
      "text/plain": [
       "720"
      ]
     },
     "execution_count": 54,
     "metadata": {},
     "output_type": "execute_result"
    }
   ],
   "source": [
    "rng = default_rng(seed=0)\n",
    "\n",
    "data_idx = np.arange(0,num_samples_max)\n",
    "test_idx = int(num_samples_max*test_proportion)\n",
    "test_idxs = data_idx[:test_idx]\n",
    "train_idxs = data_idx[test_idx:num_samples_max]\n",
    "\n",
    "resolution_proportions = [0.8, 0.1, 0.07, 0.03]\n",
    "#resolution_idxs = []\n",
    "num_train_samples = len(train_idxs)\n",
    "rng.shuffle(train_idxs)\n",
    "\n",
    "res_sets = []\n",
    "for ratio in resolution_proportions:\n",
    "    res_idx = int(num_train_samples * ratio)\n",
    "    #resolution_idxs.append(res_idx)\n",
    "    res_sets.append(train_idxs[:res_idx])\n",
    "    train_idxs = train_idxs[res_idx:]\n",
    "# can just pass in # of samples or maybe \n",
    "len(res_sets[0])"
   ]
  },
  {
   "cell_type": "code",
   "execution_count": 52,
   "id": "07f65cad-4d7b-4ba7-9dba-6695d627efa6",
   "metadata": {},
   "outputs": [
    {
     "data": {
      "text/plain": [
       "900"
      ]
     },
     "execution_count": 52,
     "metadata": {},
     "output_type": "execute_result"
    }
   ],
   "source": [
    "total_count = 0\n",
    "for i in range(4):\n",
    "    total_count += len(res_sets[i])\n",
    "\n",
    "total_count"
   ]
  },
  {
   "cell_type": "code",
   "execution_count": 67,
   "id": "918822f8-e00e-4ece-b07e-37f84063a850",
   "metadata": {},
   "outputs": [
    {
     "name": "stdout",
     "output_type": "stream",
     "text": [
      "num_batches_in_set=6\n",
      "num_batches_in_set=1\n",
      "num_batches_in_set=1\n",
      "num_batches_in_set=1\n"
     ]
    },
    {
     "data": {
      "text/plain": [
       "836"
      ]
     },
     "execution_count": 67,
     "metadata": {},
     "output_type": "execute_result"
    }
   ],
   "source": [
    "num_of_train_batches = math.ceil(num_train_samples / batch_size)\n",
    "num_of_train_batches\n",
    "\n",
    "batch_idx = 45\n",
    "\n",
    "for res_set in res_sets:\n",
    "    num_batches_in_set = math.ceil(len(res_set) / batch_size)\n",
    "    print(f\"{num_batches_in_set=}\")\n",
    "    if batch_idx >= num_batches_in_set:\n",
    "        batch_idx -= num_batches_in_set\n",
    "    else:\n",
    "        print(f\"in correct set, {len(res_set)=}\")\n",
    "        item_idx = int(batch_idx*batch_size)\n",
    "        sample = res_set[item_idx:item_idx+batch_size]\n",
    "        break\n",
    "\n",
    "sample"
   ]
  },
  {
   "cell_type": "code",
   "execution_count": 61,
   "id": "0c8cfb63-b71f-4df3-a285-ef17796456b9",
   "metadata": {},
   "outputs": [],
   "source": [
    "\"\"\"(Compressible) Navier Stokes Dataset Example.\"\"\"\n",
    "\n",
    "# https://github.com/pdebench/PDEBench/blob/main/pdebench/models/fno/utils.py\n",
    "from __future__ import annotations\n",
    "\n",
    "import math\n",
    "import typing\n",
    "from pathlib import Path\n",
    "\n",
    "import h5py\n",
    "import numpy as np\n",
    "import torch\n",
    "from numpy.random import default_rng\n",
    "from torch.utils.data import Dataset\n",
    "from torchvision.transforms import Compose\n",
    "\n",
    "\n",
    "class NSPDEBench(Dataset):\n",
    "    \"\"\"(Compressible) Navier Stokes Dataset from PDE Bench.\"\"\"\n",
    "\n",
    "    def __init__(\n",
    "        self,\n",
    "        filename: str,\n",
    "        initial_step: int = 10,\n",
    "        saved_folder: str = '../data/',\n",
    "        train: bool = False,\n",
    "        transform: Compose = None,\n",
    "        **kwargs: typing.Any,\n",
    "    ):\n",
    "        \"\"\"Initialize data.\n",
    "\n",
    "        :param filename: filename that contains the dataset\n",
    "        :type filename: STR\n",
    "\n",
    "        support img dimentions: 128, 64, 32, 16 (highest to lowest)\n",
    "                             OR 512, 256, 128, 64, (highest to lowest)\n",
    "\n",
    "        spatial dim just depends on the original simulation res\n",
    "        \"\"\"\n",
    "        self.transform = transform\n",
    "        self.initial_step = initial_step\n",
    "        resolution_proportions = kwargs['resolution_proportions']\n",
    "        four = 4\n",
    "        assert len(resolution_proportions) == four, (\n",
    "            'Only support 4 img_resolutions, see doc string.'\n",
    "        )\n",
    "        assert sum(resolution_proportions) == 1, (\n",
    "            'All dataset proportions must sum to 1.'\n",
    "        )\n",
    "        self.rng = default_rng(seed=kwargs['seed'])\n",
    "        self.batch_size = kwargs['batch_size']\n",
    "        test_ratio = 0.1\n",
    "        num_samples_max = -1\n",
    "        # NOTE(MS): already filtered time in preprocessing\n",
    "        self.reduced_resolution_t = 1\n",
    "\n",
    "        self.root_path = Path(Path(saved_folder).resolve()) / filename\n",
    "        with h5py.File(self.root_path, 'r') as f:\n",
    "            # num of data samples\n",
    "            num_samples_max = f['density'].shape[0]\n",
    "\n",
    "            # list of data idxs\n",
    "            data_idx = np.arange(0, num_samples_max)\n",
    "            # num of test samples\n",
    "            test_idx = int(num_samples_max * test_ratio)\n",
    "            if train:\n",
    "                first_batch_idx = test_idx\n",
    "                last_batch_idx = -1\n",
    "                self.num_samples = num_samples_max - test_idx\n",
    "            else:\n",
    "                first_batch_idx = 0\n",
    "                last_batch_idx = test_idx\n",
    "                self.num_samples = test_idx\n",
    "            print(f'{self.num_samples=}')\n",
    "            # grab data indexs\n",
    "            self.data_idxs = data_idx[first_batch_idx:last_batch_idx]\n",
    "            # shuffle indexes\n",
    "            self.rng.shuffle(self.data_idxs)\n",
    "\n",
    "        # Define path to files\n",
    "        self.data_sets = []\n",
    "        self.index_sets = []\n",
    "        for _res_factor, ratio in enumerate(resolution_proportions):\n",
    "            # number of points in this resolution set\n",
    "            res_idx = int(self.num_samples * ratio)\n",
    "            # sort all indexes\n",
    "            set_indexes = np.sort(self.data_idxs[:res_idx])\n",
    "            self.index_sets.append(set_indexes)\n",
    "            # remove already used indexes\n",
    "            self.data_idxs = self.data_idxs[res_idx:]\n",
    "            \n",
    "            \n",
    "\n",
    "    def __len__(self) -> int:\n",
    "        \"\"\"Returns len of dataset.\n",
    "\n",
    "        Recall this is a pre-batched dataset, so we return\n",
    "        number of batches.\n",
    "        \"\"\"\n",
    "        total_batches = 0\n",
    "        for _set_idx, res_set in enumerate(self.index_sets):\n",
    "            num_batches_in_set = math.ceil(len(res_set) / self.batch_size)\n",
    "            total_batches += num_batches_in_set\n",
    "        return total_batches\n",
    "\n",
    "    def __getitem__(self, batch_idx: int) -> dict[str, torch.Tensor]:\n",
    "        \"\"\"Get single batch.\"\"\"\n",
    "        # iterate through all resoulution sets to find batch\n",
    "        for _set_idx, res_set in enumerate(self.index_sets):\n",
    "            num_batches_in_set = math.ceil(len(res_set) / self.batch_size)\n",
    "            if batch_idx >= num_batches_in_set:\n",
    "                batch_idx -= num_batches_in_set\n",
    "            else:\n",
    "                item_idx = int(batch_idx * self.batch_size)\n",
    "                set_idx = _set_idx\n",
    "                break\n",
    "\n",
    "        reduced_resolution = 2**set_idx\n",
    "        set_indexes = self.index_sets[set_idx][\n",
    "            item_idx : item_idx + self.batch_size\n",
    "        ]\n",
    "        with h5py.File(self.root_path, 'r') as f:\n",
    "            density = np.array(\n",
    "                f['density'][\n",
    "                    set_indexes,\n",
    "                    ::self.reduced_resolution_t,\n",
    "                    ::reduced_resolution,\n",
    "                    ::reduced_resolution,\n",
    "                ],\n",
    "                dtype=np.float32,\n",
    "            )\n",
    "            # batch, time, x,...\n",
    "            # pressure\n",
    "            pressure = np.array(\n",
    "                f['pressure'][\n",
    "                    set_indexes,\n",
    "                    ::self.reduced_resolution_t,\n",
    "                    ::reduced_resolution,\n",
    "                    ::reduced_resolution,\n",
    "                ],\n",
    "                dtype=np.float32,\n",
    "            )  # batch, time, x,...\n",
    "            # Vx\n",
    "            vx = np.array(\n",
    "                f['Vx'][\n",
    "                    set_indexes,\n",
    "                    ::self.reduced_resolution_t,\n",
    "                    ::reduced_resolution,\n",
    "                    ::reduced_resolution,\n",
    "                ],\n",
    "                dtype=np.float32,\n",
    "            )  # batch, time, x,...\n",
    "            # Vy\n",
    "            vy = np.array(\n",
    "                f['Vy'][\n",
    "                    set_indexes,\n",
    "                    ::self.reduced_resolution_t,\n",
    "                    ::reduced_resolution,\n",
    "                    ::reduced_resolution,\n",
    "                ],\n",
    "                dtype=np.float32,\n",
    "            )  # batch, time, x,...\n",
    "\n",
    "            self.data_set= torch.tensor(np.stack([density, pressure, vx, vy], axis=2))\n",
    "            \n",
    "                \n",
    "        sample = {\n",
    "            'x': self.data_set[\n",
    "                :,\n",
    "                : self.initial_step,\n",
    "                ...,\n",
    "            ],\n",
    "            'y': self.data_set\n",
    "        }\n",
    "\n",
    "        if self.transform:\n",
    "            sample = self.transform(sample)\n",
    "\n",
    "        return sample"
   ]
  },
  {
   "cell_type": "code",
   "execution_count": 64,
   "id": "657146d1-c888-4c4e-8c48-db0dd45a2f14",
   "metadata": {},
   "outputs": [
    {
     "name": "stdout",
     "output_type": "stream",
     "text": [
      "self.num_samples=987\n",
      "self.num_samples=900\n"
     ]
    }
   ],
   "source": [
    "initial_steps = 10\n",
    "batch_size = 4\n",
    "data_transforms = None\n",
    "train = True\n",
    "resolution_ratios = [0.5, 0.5, 0, 0]\n",
    "dataset = IncompNSPDEBench(\n",
    "            filename='full_data_merge.h5',\n",
    "            initial_step=initial_steps,\n",
    "            saved_folder='/pscratch/sd/m/mansisak/PDEBench/pdebench_data/2D/NS_incom/',\n",
    "            train=train,\n",
    "            transform=data_transforms,\n",
    "            batch_size=batch_size,\n",
    "            resolution_proportions=resolution_ratios,\n",
    "            seed=seed,\n",
    "        )\n",
    "\n",
    "param = ['Turb', 1.0, 1e-08, 1e-08, 'periodic', 512]\n",
    "\n",
    "dataset = NSPDEBench(\n",
    "    filename=(\n",
    "        f'2D_CFD_{param[0]}_M{param[1]}_'\n",
    "        f'Eta{param[2]}_Zeta{param[3]}_{param[4]}_{param[5]}_Train.hdf5'\n",
    "    ),\n",
    "    initial_step=initial_steps,\n",
    "    saved_folder=f'/pscratch/sd/m/mansisak/PDEBench/pdebench_data/2D/CFD/2D_Train_{param[0]}/',\n",
    "    # Rand/',\n",
    "    train=train,\n",
    "    transform=data_transforms,\n",
    "    batch_size=batch_size,\n",
    "    resolution_proportions=resolution_ratios,\n",
    "    seed=seed,\n",
    ")\n"
   ]
  },
  {
   "cell_type": "code",
   "execution_count": 65,
   "id": "59548e50-87e1-41c5-bb9e-02f1ae5c8fa2",
   "metadata": {},
   "outputs": [
    {
     "name": "stdout",
     "output_type": "stream",
     "text": [
      "torch.Size([4, 10, 4, 512, 512])\n",
      "torch.Size([4, 10, 4, 512, 512])\n",
      "torch.Size([4, 10, 4, 512, 512])\n",
      "torch.Size([4, 10, 4, 512, 512])\n",
      "torch.Size([4, 10, 4, 512, 512])\n",
      "torch.Size([4, 10, 4, 512, 512])\n",
      "torch.Size([4, 10, 4, 512, 512])\n",
      "torch.Size([4, 10, 4, 512, 512])\n",
      "torch.Size([4, 10, 4, 512, 512])\n",
      "torch.Size([4, 10, 4, 512, 512])\n",
      "torch.Size([4, 10, 4, 512, 512])\n",
      "torch.Size([4, 10, 4, 512, 512])\n",
      "torch.Size([4, 10, 4, 512, 512])\n",
      "torch.Size([4, 10, 4, 512, 512])\n",
      "torch.Size([4, 10, 4, 512, 512])\n",
      "torch.Size([4, 10, 4, 512, 512])\n",
      "torch.Size([4, 10, 4, 512, 512])\n",
      "torch.Size([4, 10, 4, 512, 512])\n",
      "torch.Size([4, 10, 4, 512, 512])\n",
      "torch.Size([4, 10, 4, 512, 512])\n",
      "torch.Size([4, 10, 4, 512, 512])\n",
      "torch.Size([4, 10, 4, 512, 512])\n",
      "torch.Size([4, 10, 4, 512, 512])\n",
      "torch.Size([4, 10, 4, 512, 512])\n",
      "torch.Size([4, 10, 4, 512, 512])\n",
      "torch.Size([4, 10, 4, 512, 512])\n",
      "torch.Size([4, 10, 4, 512, 512])\n",
      "torch.Size([4, 10, 4, 512, 512])\n",
      "torch.Size([4, 10, 4, 512, 512])\n",
      "torch.Size([4, 10, 4, 512, 512])\n",
      "torch.Size([4, 10, 4, 512, 512])\n",
      "torch.Size([4, 10, 4, 512, 512])\n",
      "torch.Size([4, 10, 4, 512, 512])\n",
      "torch.Size([4, 10, 4, 512, 512])\n",
      "torch.Size([4, 10, 4, 512, 512])\n",
      "torch.Size([4, 10, 4, 512, 512])\n",
      "torch.Size([4, 10, 4, 512, 512])\n",
      "torch.Size([4, 10, 4, 512, 512])\n",
      "torch.Size([4, 10, 4, 512, 512])\n",
      "torch.Size([4, 10, 4, 512, 512])\n",
      "torch.Size([4, 10, 4, 512, 512])\n",
      "torch.Size([4, 10, 4, 512, 512])\n",
      "torch.Size([4, 10, 4, 512, 512])\n",
      "torch.Size([4, 10, 4, 512, 512])\n",
      "torch.Size([4, 10, 4, 512, 512])\n",
      "torch.Size([4, 10, 4, 512, 512])\n",
      "torch.Size([4, 10, 4, 512, 512])\n",
      "torch.Size([4, 10, 4, 512, 512])\n",
      "torch.Size([4, 10, 4, 512, 512])\n",
      "torch.Size([4, 10, 4, 512, 512])\n",
      "torch.Size([4, 10, 4, 512, 512])\n",
      "torch.Size([4, 10, 4, 512, 512])\n",
      "torch.Size([4, 10, 4, 512, 512])\n",
      "torch.Size([4, 10, 4, 512, 512])\n",
      "torch.Size([4, 10, 4, 512, 512])\n",
      "torch.Size([4, 10, 4, 512, 512])\n",
      "torch.Size([4, 10, 4, 512, 512])\n",
      "torch.Size([4, 10, 4, 512, 512])\n",
      "torch.Size([4, 10, 4, 512, 512])\n",
      "torch.Size([4, 10, 4, 512, 512])\n",
      "torch.Size([4, 10, 4, 512, 512])\n",
      "torch.Size([4, 10, 4, 512, 512])\n",
      "torch.Size([4, 10, 4, 512, 512])\n",
      "torch.Size([4, 10, 4, 512, 512])\n",
      "torch.Size([4, 10, 4, 512, 512])\n",
      "torch.Size([4, 10, 4, 512, 512])\n",
      "torch.Size([4, 10, 4, 512, 512])\n",
      "torch.Size([4, 10, 4, 512, 512])\n",
      "torch.Size([4, 10, 4, 512, 512])\n",
      "torch.Size([4, 10, 4, 512, 512])\n",
      "torch.Size([4, 10, 4, 512, 512])\n",
      "torch.Size([4, 10, 4, 512, 512])\n",
      "torch.Size([4, 10, 4, 512, 512])\n",
      "torch.Size([4, 10, 4, 512, 512])\n",
      "torch.Size([4, 10, 4, 512, 512])\n",
      "torch.Size([4, 10, 4, 512, 512])\n",
      "torch.Size([4, 10, 4, 512, 512])\n",
      "torch.Size([4, 10, 4, 512, 512])\n",
      "torch.Size([4, 10, 4, 512, 512])\n",
      "torch.Size([4, 10, 4, 512, 512])\n",
      "torch.Size([4, 10, 4, 512, 512])\n",
      "torch.Size([4, 10, 4, 512, 512])\n",
      "torch.Size([4, 10, 4, 512, 512])\n",
      "torch.Size([4, 10, 4, 512, 512])\n",
      "torch.Size([4, 10, 4, 512, 512])\n",
      "torch.Size([4, 10, 4, 512, 512])\n",
      "torch.Size([4, 10, 4, 512, 512])\n",
      "torch.Size([4, 10, 4, 512, 512])\n",
      "torch.Size([4, 10, 4, 512, 512])\n",
      "torch.Size([4, 10, 4, 512, 512])\n",
      "torch.Size([4, 10, 4, 512, 512])\n",
      "torch.Size([4, 10, 4, 512, 512])\n",
      "torch.Size([4, 10, 4, 512, 512])\n",
      "torch.Size([4, 10, 4, 512, 512])\n",
      "torch.Size([4, 10, 4, 512, 512])\n",
      "torch.Size([4, 10, 4, 512, 512])\n",
      "torch.Size([4, 10, 4, 512, 512])\n",
      "torch.Size([4, 10, 4, 512, 512])\n",
      "torch.Size([4, 10, 4, 512, 512])\n",
      "torch.Size([4, 10, 4, 512, 512])\n",
      "torch.Size([4, 10, 4, 512, 512])\n",
      "torch.Size([4, 10, 4, 512, 512])\n",
      "torch.Size([4, 10, 4, 512, 512])\n",
      "torch.Size([4, 10, 4, 512, 512])\n",
      "torch.Size([4, 10, 4, 512, 512])\n",
      "torch.Size([4, 10, 4, 512, 512])\n",
      "torch.Size([4, 10, 4, 512, 512])\n",
      "torch.Size([4, 10, 4, 512, 512])\n",
      "torch.Size([4, 10, 4, 512, 512])\n",
      "torch.Size([4, 10, 4, 512, 512])\n",
      "torch.Size([4, 10, 4, 512, 512])\n",
      "torch.Size([4, 10, 4, 512, 512])\n",
      "torch.Size([2, 10, 4, 512, 512])\n",
      "torch.Size([4, 10, 4, 256, 256])\n",
      "torch.Size([4, 10, 4, 256, 256])\n",
      "torch.Size([4, 10, 4, 256, 256])\n",
      "torch.Size([4, 10, 4, 256, 256])\n",
      "torch.Size([4, 10, 4, 256, 256])\n",
      "torch.Size([4, 10, 4, 256, 256])\n",
      "torch.Size([4, 10, 4, 256, 256])\n",
      "torch.Size([4, 10, 4, 256, 256])\n",
      "torch.Size([4, 10, 4, 256, 256])\n",
      "torch.Size([4, 10, 4, 256, 256])\n",
      "torch.Size([4, 10, 4, 256, 256])\n",
      "torch.Size([4, 10, 4, 256, 256])\n",
      "torch.Size([4, 10, 4, 256, 256])\n",
      "torch.Size([4, 10, 4, 256, 256])\n",
      "torch.Size([4, 10, 4, 256, 256])\n",
      "torch.Size([4, 10, 4, 256, 256])\n",
      "torch.Size([4, 10, 4, 256, 256])\n",
      "torch.Size([4, 10, 4, 256, 256])\n",
      "torch.Size([4, 10, 4, 256, 256])\n",
      "torch.Size([4, 10, 4, 256, 256])\n",
      "torch.Size([4, 10, 4, 256, 256])\n",
      "torch.Size([4, 10, 4, 256, 256])\n",
      "torch.Size([4, 10, 4, 256, 256])\n",
      "torch.Size([4, 10, 4, 256, 256])\n",
      "torch.Size([4, 10, 4, 256, 256])\n",
      "torch.Size([4, 10, 4, 256, 256])\n",
      "torch.Size([4, 10, 4, 256, 256])\n",
      "torch.Size([4, 10, 4, 256, 256])\n",
      "torch.Size([4, 10, 4, 256, 256])\n",
      "torch.Size([4, 10, 4, 256, 256])\n",
      "torch.Size([4, 10, 4, 256, 256])\n",
      "torch.Size([4, 10, 4, 256, 256])\n",
      "torch.Size([4, 10, 4, 256, 256])\n",
      "torch.Size([4, 10, 4, 256, 256])\n",
      "torch.Size([4, 10, 4, 256, 256])\n",
      "torch.Size([4, 10, 4, 256, 256])\n",
      "torch.Size([4, 10, 4, 256, 256])\n",
      "torch.Size([4, 10, 4, 256, 256])\n",
      "torch.Size([4, 10, 4, 256, 256])\n",
      "torch.Size([4, 10, 4, 256, 256])\n",
      "torch.Size([4, 10, 4, 256, 256])\n",
      "torch.Size([4, 10, 4, 256, 256])\n",
      "torch.Size([4, 10, 4, 256, 256])\n",
      "torch.Size([4, 10, 4, 256, 256])\n",
      "torch.Size([4, 10, 4, 256, 256])\n",
      "torch.Size([4, 10, 4, 256, 256])\n",
      "torch.Size([4, 10, 4, 256, 256])\n",
      "torch.Size([4, 10, 4, 256, 256])\n",
      "torch.Size([4, 10, 4, 256, 256])\n",
      "torch.Size([4, 10, 4, 256, 256])\n",
      "torch.Size([4, 10, 4, 256, 256])\n",
      "torch.Size([4, 10, 4, 256, 256])\n",
      "torch.Size([4, 10, 4, 256, 256])\n",
      "torch.Size([4, 10, 4, 256, 256])\n",
      "torch.Size([4, 10, 4, 256, 256])\n",
      "torch.Size([4, 10, 4, 256, 256])\n",
      "torch.Size([4, 10, 4, 256, 256])\n",
      "torch.Size([4, 10, 4, 256, 256])\n",
      "torch.Size([4, 10, 4, 256, 256])\n",
      "torch.Size([4, 10, 4, 256, 256])\n",
      "torch.Size([4, 10, 4, 256, 256])\n",
      "torch.Size([4, 10, 4, 256, 256])\n",
      "torch.Size([4, 10, 4, 256, 256])\n",
      "torch.Size([4, 10, 4, 256, 256])\n",
      "torch.Size([4, 10, 4, 256, 256])\n",
      "torch.Size([4, 10, 4, 256, 256])\n",
      "torch.Size([4, 10, 4, 256, 256])\n",
      "torch.Size([4, 10, 4, 256, 256])\n",
      "torch.Size([4, 10, 4, 256, 256])\n",
      "torch.Size([4, 10, 4, 256, 256])\n",
      "torch.Size([4, 10, 4, 256, 256])\n",
      "torch.Size([4, 10, 4, 256, 256])\n",
      "torch.Size([4, 10, 4, 256, 256])\n",
      "torch.Size([4, 10, 4, 256, 256])\n",
      "torch.Size([4, 10, 4, 256, 256])\n",
      "torch.Size([4, 10, 4, 256, 256])\n",
      "torch.Size([4, 10, 4, 256, 256])\n",
      "torch.Size([4, 10, 4, 256, 256])\n",
      "torch.Size([4, 10, 4, 256, 256])\n",
      "torch.Size([4, 10, 4, 256, 256])\n",
      "torch.Size([4, 10, 4, 256, 256])\n",
      "torch.Size([4, 10, 4, 256, 256])\n",
      "torch.Size([4, 10, 4, 256, 256])\n",
      "torch.Size([4, 10, 4, 256, 256])\n",
      "torch.Size([4, 10, 4, 256, 256])\n",
      "torch.Size([4, 10, 4, 256, 256])\n",
      "torch.Size([4, 10, 4, 256, 256])\n",
      "torch.Size([4, 10, 4, 256, 256])\n",
      "torch.Size([4, 10, 4, 256, 256])\n",
      "torch.Size([4, 10, 4, 256, 256])\n",
      "torch.Size([4, 10, 4, 256, 256])\n",
      "torch.Size([4, 10, 4, 256, 256])\n",
      "torch.Size([4, 10, 4, 256, 256])\n",
      "torch.Size([4, 10, 4, 256, 256])\n",
      "torch.Size([4, 10, 4, 256, 256])\n",
      "torch.Size([4, 10, 4, 256, 256])\n",
      "torch.Size([4, 10, 4, 256, 256])\n",
      "torch.Size([4, 10, 4, 256, 256])\n",
      "torch.Size([4, 10, 4, 256, 256])\n",
      "torch.Size([4, 10, 4, 256, 256])\n",
      "torch.Size([4, 10, 4, 256, 256])\n",
      "torch.Size([4, 10, 4, 256, 256])\n",
      "torch.Size([4, 10, 4, 256, 256])\n",
      "torch.Size([4, 10, 4, 256, 256])\n",
      "torch.Size([4, 10, 4, 256, 256])\n",
      "torch.Size([4, 10, 4, 256, 256])\n",
      "torch.Size([4, 10, 4, 256, 256])\n",
      "torch.Size([4, 10, 4, 256, 256])\n",
      "torch.Size([4, 10, 4, 256, 256])\n",
      "torch.Size([4, 10, 4, 256, 256])\n",
      "torch.Size([4, 10, 4, 256, 256])\n",
      "torch.Size([4, 10, 4, 256, 256])\n",
      "torch.Size([1, 10, 4, 256, 256])\n"
     ]
    },
    {
     "data": {
      "text/plain": [
       "899"
      ]
     },
     "execution_count": 65,
     "metadata": {},
     "output_type": "execute_result"
    }
   ],
   "source": [
    "num_samples = 0\n",
    "for i in range(len(dataset)):\n",
    "    bs = dataset[i]['x'].shape[0]\n",
    "    print(dataset[i]['x'].shape)\n",
    "    num_samples += bs\n",
    "\n",
    "num_samples"
   ]
  },
  {
   "cell_type": "code",
   "execution_count": 49,
   "id": "e273471b-318f-48e9-92a4-55b17baa1d48",
   "metadata": {},
   "outputs": [
    {
     "name": "stdout",
     "output_type": "stream",
     "text": [
      "resolution_ratios=[0, 1, 0, 0]\n",
      "self.num_samples=100\n",
      "loaded density, density.shape=(0, 21, 512, 512)\n",
      "loaded pressure\n",
      "loaded Vx\n",
      "loaded Vy\n",
      "loaded density, density.shape=(100, 21, 256, 256)\n",
      "loaded pressure\n",
      "loaded Vx\n",
      "loaded Vy\n",
      "loaded density, density.shape=(0, 21, 128, 128)\n",
      "loaded pressure\n",
      "loaded Vx\n",
      "loaded Vy\n",
      "loaded density, density.shape=(0, 21, 64, 64)\n",
      "loaded pressure\n",
      "loaded Vx\n",
      "loaded Vy\n"
     ]
    },
    {
     "data": {
      "text/plain": [
       "torch.Size([100, 10, 4, 256, 256])"
      ]
     },
     "execution_count": 49,
     "metadata": {},
     "output_type": "execute_result"
    }
   ],
   "source": [
    "batch_size = 137\n",
    "initial_steps = 10\n",
    "filter_lim = -1\n",
    "downsample_dim = -1\n",
    "model_name = 'FNO2D'\n",
    "darcy_forcing_term = 1.0\n",
    "burger_viscosity = 1.0\n",
    "train = False\n",
    "data_transforms = None\n",
    "dataset_name = 'ns_pdebench'\n",
    "comp_ns_params = ['Turb', 1.0, 1e-08, 1e-08, 'periodic', 512]\n",
    "\n",
    "resolution_ratios = [0,1, 0, 0]\n",
    "img_size = 128\n",
    "seed = 0\n",
    "\n",
    "data = get_dataset(\n",
    "    dataset_name = dataset_name,\n",
    "    filter_lim = filter_lim,\n",
    "    img_size = img_size,\n",
    "    downsample_dim = downsample_dim,\n",
    "    train=train,\n",
    "    initial_steps=initial_steps,\n",
    "    model_name=model_name,\n",
    "    darcy_forcing_term=darcy_forcing_term,\n",
    "    burger_viscosity=burger_viscosity,\n",
    "    batch_size=batch_size,\n",
    "    seed=seed,\n",
    "    resolution_ratios=resolution_ratios,\n",
    "    comp_ns_params=comp_ns_params,\n",
    ")\n",
    "data[0]['x'].shape"
   ]
  },
  {
   "cell_type": "code",
   "execution_count": 50,
   "id": "e4de63ba-858f-42d0-bcd6-58db89ed82c6",
   "metadata": {},
   "outputs": [
    {
     "data": {
      "text/plain": [
       "torch.Size([100, 10, 4, 256, 256])"
      ]
     },
     "execution_count": 50,
     "metadata": {},
     "output_type": "execute_result"
    }
   ],
   "source": [
    "data[0]['x'].shape"
   ]
  },
  {
   "cell_type": "code",
   "execution_count": 13,
   "id": "ea2cc1fc-4684-42af-881d-36304b99b804",
   "metadata": {},
   "outputs": [],
   "source": [
    "from operator_aliasing.train.pinn_losses import finite_difference_2d\n",
    "import torch\n",
    "def incomp_ns_fdm(\n",
    "    vx: torch.tensor,\n",
    "    vy: torch.tensor,\n",
    "    vorticity: torch.tensor,\n",
    "    viscosity: float,\n",
    "    force_curl: torch.tensor,\n",
    ") -> torch.tensor:\n",
    "    \"\"\"Pinns loss for vorticity for of incompressible Navier stokes equations.\n",
    "\n",
    "    vx: x velocity\n",
    "    vy: y velocity\n",
    "    vorticity: vorticity\n",
    "    viscosity: viscosity coeff\n",
    "    force_curl: curl of x and y forces\n",
    "    t_interval: time interval = 1\n",
    "\n",
    "    For using finite difference instead of spectral derivative incase\n",
    "    of non-periodic boundary conditions\n",
    "\n",
    "    https://github.com/neuraloperator/physics_informed/blob/master/train_utils/losses.py#L68\n",
    "    \"\"\"\n",
    "    # hold time interval constant at 1\n",
    "    # (can make function arg if time interval changes)\n",
    "    t_interval = 1\n",
    "    nt = vorticity.shape[1]\n",
    "\n",
    "    dt = t_interval / (nt - 1)\n",
    "    vorticity_dt = (vorticity[:, 2:, ...] - vorticity[:, :-2, ...]) / (2 * dt)\n",
    "\n",
    "    voriticity_dx = finite_difference_2d(vorticity, d=1, axis='dx')\n",
    "    voriticity_dy = finite_difference_2d(vorticity, d=1, axis='dy')\n",
    "    print(f\"{vx[:, nt:, 1:-1, 1:-1].shape=}, {voriticity_dx.shape=}\")\n",
    "    # veolicty * nabla vorticity\n",
    "    u_nabla_vort = (\n",
    "        vx[:, nt:, 1:-1, 1:-1] * voriticity_dx\n",
    "        + vy[:, nt:, 1:-1, 1:-1] * voriticity_dy\n",
    "    )\n",
    "\n",
    "    # force term (repeat along time dim\n",
    "    force_curl = force_curl.unsqueeze(dim=1).repeat(1, nt - 2, 1, 1)\n",
    "\n",
    "    # viscoity*laplacian of vorticity\n",
    "    lap_vorticity = laplacian(vorticity)\n",
    "\n",
    "    # NOTE(MS):must ensure shape's matchup\n",
    "    # finite-difference shaves off a dimention each time it is applied\n",
    "    return (\n",
    "        vorticity_dt[..., 1:-1, 1:-1]\n",
    "        + u_nabla_vort[:, 1:-1, ...]\n",
    "        - viscosity * lap_vorticity[:, 1:-1, ...]\n",
    "        - force_curl[..., 1:-1, 1:-1]\n",
    "    )"
   ]
  },
  {
   "cell_type": "code",
   "execution_count": 15,
   "id": "95a5c16c-8268-4a41-9dbe-9a9aa8b09981",
   "metadata": {},
   "outputs": [
    {
     "name": "stdout",
     "output_type": "stream",
     "text": [
      "vx[:, nt:, 1:-1, 1:-1].shape=torch.Size([109, 10, 253, 253]), voriticity_dx.shape=torch.Size([109, 10, 253, 253])\n"
     ]
    },
    {
     "ename": "RuntimeError",
     "evalue": "Number of dimensions of repeat dims can not be smaller than number of dimensions of tensor",
     "output_type": "error",
     "traceback": [
      "\u001b[0;31m---------------------------------------------------------------------------\u001b[0m",
      "\u001b[0;31mRuntimeError\u001b[0m                              Traceback (most recent call last)",
      "Cell \u001b[0;32mIn[15], line 1\u001b[0m\n\u001b[0;32m----> 1\u001b[0m \u001b[43mincomp_ns_fdm\u001b[49m\u001b[43m(\u001b[49m\n\u001b[1;32m      2\u001b[0m \u001b[43m    \u001b[49m\u001b[43mdata\u001b[49m\u001b[43m[\u001b[49m\u001b[38;5;241;43m0\u001b[39;49m\u001b[43m]\u001b[49m\u001b[43m[\u001b[49m\u001b[38;5;124;43m'\u001b[39;49m\u001b[38;5;124;43mVx\u001b[39;49m\u001b[38;5;124;43m'\u001b[39;49m\u001b[43m]\u001b[49m\u001b[43m[\u001b[49m\u001b[43m:\u001b[49m\u001b[43m,\u001b[49m\u001b[43m:\u001b[49m\u001b[43m,\u001b[49m\u001b[38;5;241;43m.\u001b[39;49m\u001b[38;5;241;43m.\u001b[39;49m\u001b[38;5;241;43m.\u001b[39;49m\u001b[43m]\u001b[49m\u001b[43m,\u001b[49m\n\u001b[1;32m      3\u001b[0m \u001b[43m    \u001b[49m\u001b[43mdata\u001b[49m\u001b[43m[\u001b[49m\u001b[38;5;241;43m0\u001b[39;49m\u001b[43m]\u001b[49m\u001b[43m[\u001b[49m\u001b[38;5;124;43m'\u001b[39;49m\u001b[38;5;124;43mVy\u001b[39;49m\u001b[38;5;124;43m'\u001b[39;49m\u001b[43m]\u001b[49m\u001b[43m[\u001b[49m\u001b[43m:\u001b[49m\u001b[43m,\u001b[49m\u001b[43m:\u001b[49m\u001b[43m,\u001b[49m\u001b[38;5;241;43m.\u001b[39;49m\u001b[38;5;241;43m.\u001b[39;49m\u001b[38;5;241;43m.\u001b[39;49m\u001b[43m]\u001b[49m\u001b[43m,\u001b[49m\n\u001b[1;32m      4\u001b[0m \u001b[43m    \u001b[49m\u001b[43mdata\u001b[49m\u001b[43m[\u001b[49m\u001b[38;5;241;43m0\u001b[39;49m\u001b[43m]\u001b[49m\u001b[43m[\u001b[49m\u001b[38;5;124;43m'\u001b[39;49m\u001b[38;5;124;43mx\u001b[39;49m\u001b[38;5;124;43m'\u001b[39;49m\u001b[43m]\u001b[49m\u001b[38;5;241;43m.\u001b[39;49m\u001b[43msqueeze\u001b[49m\u001b[43m(\u001b[49m\u001b[43m)\u001b[49m\u001b[43m,\u001b[49m\n\u001b[1;32m      5\u001b[0m \u001b[43m    \u001b[49m\u001b[38;5;241;43m1\u001b[39;49m\u001b[43m,\u001b[49m\n\u001b[1;32m      6\u001b[0m \u001b[43m    \u001b[49m\u001b[43mdata\u001b[49m\u001b[43m[\u001b[49m\u001b[38;5;241;43m0\u001b[39;49m\u001b[43m]\u001b[49m\u001b[43m[\u001b[49m\u001b[38;5;124;43m'\u001b[39;49m\u001b[38;5;124;43mforce_curl\u001b[39;49m\u001b[38;5;124;43m'\u001b[39;49m\u001b[43m]\u001b[49m\u001b[43m,\u001b[49m\n\u001b[1;32m      7\u001b[0m \u001b[43m)\u001b[49m\n",
      "Cell \u001b[0;32mIn[13], line 42\u001b[0m, in \u001b[0;36mincomp_ns_fdm\u001b[0;34m(vx, vy, vorticity, viscosity, force_curl)\u001b[0m\n\u001b[1;32m     36\u001b[0m u_nabla_vort \u001b[38;5;241m=\u001b[39m (\n\u001b[1;32m     37\u001b[0m     vx[:, nt:, \u001b[38;5;241m1\u001b[39m:\u001b[38;5;241m-\u001b[39m\u001b[38;5;241m1\u001b[39m, \u001b[38;5;241m1\u001b[39m:\u001b[38;5;241m-\u001b[39m\u001b[38;5;241m1\u001b[39m] \u001b[38;5;241m*\u001b[39m voriticity_dx\n\u001b[1;32m     38\u001b[0m     \u001b[38;5;241m+\u001b[39m vy[:, nt:, \u001b[38;5;241m1\u001b[39m:\u001b[38;5;241m-\u001b[39m\u001b[38;5;241m1\u001b[39m, \u001b[38;5;241m1\u001b[39m:\u001b[38;5;241m-\u001b[39m\u001b[38;5;241m1\u001b[39m] \u001b[38;5;241m*\u001b[39m voriticity_dy\n\u001b[1;32m     39\u001b[0m )\n\u001b[1;32m     41\u001b[0m \u001b[38;5;66;03m# force term (repeat along time dim\u001b[39;00m\n\u001b[0;32m---> 42\u001b[0m force_curl \u001b[38;5;241m=\u001b[39m \u001b[43mforce_curl\u001b[49m\u001b[38;5;241;43m.\u001b[39;49m\u001b[43munsqueeze\u001b[49m\u001b[43m(\u001b[49m\u001b[43mdim\u001b[49m\u001b[38;5;241;43m=\u001b[39;49m\u001b[38;5;241;43m1\u001b[39;49m\u001b[43m)\u001b[49m\u001b[38;5;241;43m.\u001b[39;49m\u001b[43mrepeat\u001b[49m\u001b[43m(\u001b[49m\u001b[38;5;241;43m1\u001b[39;49m\u001b[43m,\u001b[49m\u001b[43m \u001b[49m\u001b[43mnt\u001b[49m\u001b[43m \u001b[49m\u001b[38;5;241;43m-\u001b[39;49m\u001b[43m \u001b[49m\u001b[38;5;241;43m2\u001b[39;49m\u001b[43m,\u001b[49m\u001b[43m \u001b[49m\u001b[38;5;241;43m1\u001b[39;49m\u001b[43m,\u001b[49m\u001b[43m \u001b[49m\u001b[38;5;241;43m1\u001b[39;49m\u001b[43m)\u001b[49m\n\u001b[1;32m     44\u001b[0m \u001b[38;5;66;03m# viscoity*laplacian of vorticity\u001b[39;00m\n\u001b[1;32m     45\u001b[0m lap_vorticity \u001b[38;5;241m=\u001b[39m laplacian(vorticity)\n",
      "\u001b[0;31mRuntimeError\u001b[0m: Number of dimensions of repeat dims can not be smaller than number of dimensions of tensor"
     ]
    }
   ],
   "source": [
    "incomp_ns_fdm(\n",
    "    data[0]['Vx'][:,:,...],\n",
    "    data[0]['Vy'][:,:,...],\n",
    "    data[0]['x'].squeeze(),\n",
    "    1,\n",
    "    data[0]['force_curl'],\n",
    ")"
   ]
  },
  {
   "cell_type": "code",
   "execution_count": 5,
   "id": "85b3db07-b903-4bb0-8470-483e0d148f39",
   "metadata": {},
   "outputs": [
    {
     "data": {
      "text/plain": [
       "Text(0.5, 0, 'Wavenumber')"
      ]
     },
     "execution_count": 5,
     "metadata": {},
     "output_type": "execute_result"
    },
    {
     "data": {
      "image/png": "[encoded data removed]",
      "text/plain": [
       "<Figure size 640x480 with 1 Axes>"
      ]
     },
     "metadata": {},
     "output_type": "display_data"
    }
   ],
   "source": [
    "spectrum = get_energy_curve(data[0]['x'][:,:,2,...])\n",
    "plt.plot(spectrum)\n",
    "#plt.axvline(x=8, color='orange')\n",
    "plt.title('spectrum')\n",
    "plt.ylabel('Energy')\n",
    "plt.yscale('log')\n",
    "plt.xscale('log')\n",
    "plt.xlabel('Wavenumber')"
   ]
  },
  {
   "cell_type": "code",
   "execution_count": 38,
   "id": "055914f0-5877-44ed-9e2f-b68b50a7f384",
   "metadata": {},
   "outputs": [
    {
     "data": {
      "text/plain": [
       "Text(0.5, 0, 'Wavenumber')"
      ]
     },
     "execution_count": 38,
     "metadata": {},
     "output_type": "execute_result"
    },
    {
     "data": {
      "image/png": "[encoded data removed]",
      "text/plain": [
       "<Figure size 640x480 with 1 Axes>"
      ]
     },
     "metadata": {},
     "output_type": "display_data"
    }
   ],
   "source": [
    "spectrum = get_energy_curve_1d(data[0]['x'])\n",
    "plt.plot(spectrum)\n",
    "plt.axvline(x=8, color='orange')\n",
    "plt.title('spectrum')\n",
    "plt.ylabel('Energy')\n",
    "plt.yscale('log')\n",
    "plt.xlabel('Wavenumber')"
   ]
  },
  {
   "cell_type": "code",
   "execution_count": 12,
   "id": "db2951f7-1ede-4e94-bbf4-653bf659c5e6",
   "metadata": {},
   "outputs": [
    {
     "data": {
      "image/png": "[encoded data removed]",
      "text/plain": [
       "<Figure size 500x200 with 2 Axes>"
      ]
     },
     "metadata": {},
     "output_type": "display_data"
    }
   ],
   "source": [
    "def show_img_and_power_spectrum(image: np.array):\n",
    "    \"\"\"Show image and its corresponding energy spectrum.\"\"\"\n",
    "    fig, axs = plt.subplots(1, 2, figsize=(5, 2))\n",
    "\n",
    "    axs[0].imshow(image)\n",
    "    axs[0].set_title('Spatial Domain')\n",
    "\n",
    "    spectrum = get_energy_curve(image[None, None, ...])\n",
    "    axs[1].plot(spectrum)\n",
    "    axs[1].set_title('spectrum')\n",
    "    axs[1].set_ylabel('Energy')\n",
    "    axs[1].set_xlabel('Wavenumber')\n",
    "    # axs[1].set_xscale(\"log\")\n",
    "\n",
    "    plt.tight_layout()\n",
    "    plt.show()\n",
    "\n",
    "show_img_and_power_spectrum(data[0]['x'][0,0,0,...])"
   ]
  },
  {
   "cell_type": "code",
   "execution_count": 14,
   "id": "2de431fa-72c5-4a93-9c3c-369e447483e6",
   "metadata": {},
   "outputs": [
    {
     "data": {
      "image/png": "[encoded data removed]",
      "text/plain": [
       "<Figure size 500x200 with 2 Axes>"
      ]
     },
     "metadata": {},
     "output_type": "display_data"
    }
   ],
   "source": [
    "show_img_and_power_spectrum(data[0]['x'][0,0,0,...])"
   ]
  },
  {
   "cell_type": "code",
   "execution_count": 1,
   "id": "37748ef3-9330-4e79-a101-bd75a13f512f",
   "metadata": {},
   "outputs": [],
   "source": [
    "s = '[0, 1, 0, 0]' \n",
    "\n",
    "int_list = eval(s)"
   ]
  },
  {
   "cell_type": "code",
   "execution_count": 7,
   "id": "2e509a51-f64f-4407-aa5e-b08a9b5ec0ed",
   "metadata": {},
   "outputs": [],
   "source": [
    "hp_args = {\n",
    "\n",
    "                             'resolution_ratios':[0,1,0,0], # high to low\n",
    "                         }"
   ]
  },
  {
   "cell_type": "code",
   "execution_count": 8,
   "id": "4dddccc9-a8db-4432-8871-91c73686f1eb",
   "metadata": {},
   "outputs": [
    {
     "data": {
      "text/plain": [
       "[0, 1, 0, 0]"
      ]
     },
     "execution_count": 8,
     "metadata": {},
     "output_type": "execute_result"
    }
   ],
   "source": [
    "hp_args['resolution_ratios']"
   ]
  }
 ],
 "metadata": {
  "kernelspec": {
   "display_name": "operator_alias",
   "language": "python",
   "name": "env"
  },
  "language_info": {
   "codemirror_mode": {
    "name": "ipython",
    "version": 3
   },
   "file_extension": ".py",
   "mimetype": "text/x-python",
   "name": "python",
   "nbconvert_exporter": "python",
   "pygments_lexer": "ipython3",
   "version": "3.10.0"
  }
 },
 "nbformat": 4,
 "nbformat_minor": 5
}
